{
 "cells": [
  {
   "cell_type": "markdown",
   "metadata": {
    "collapsed": true
   },
   "source": [
    "# Problem Statement\n",
    "### Settling down in Toronto – Best place for an Indian based on number of Indian restaurants.\n",
    "Toronto is a large city and it is not easy for an Indian migrating to Toronto to determine the neighbourhood he should choose to settle down as it has a lot of diversity in demographics and various other factors. Let us take the number of Indian restaurants in the neighbourhood to choose which neighbourhood would be best for him to settle down.\n",
    "\n",
    "We visualise all neighbourhoods of Toronto and also compare the number of Indian restaurants as a parameter to choose the best place to settle down."
   ]
  },
  {
   "cell_type": "markdown",
   "metadata": {},
   "source": [
    "# Data\n",
    "### For this project we need the following data:\n",
    "*Data source* : http://cocl.us/Geospatial_data\n",
    "\n",
    "*Description* : We will use this data for Toronto City which contains a list of Neighbourhoods along with their latitude and longitude.\n",
    "\n",
    "*Data source* : Fousquare API\n",
    "\n",
    "*Description* : Using Foursquare api, we will get all the venues in each neighbourhood and then we will filter these venues for only Indian restaurants."
   ]
  },
  {
   "cell_type": "code",
   "execution_count": null,
   "metadata": {},
   "outputs": [],
   "source": []
  }
 ],
 "metadata": {
  "kernelspec": {
   "display_name": "Python 3.5",
   "language": "python",
   "name": "python3"
  },
  "language_info": {
   "codemirror_mode": {
    "name": "ipython",
    "version": 3
   },
   "file_extension": ".py",
   "mimetype": "text/x-python",
   "name": "python",
   "nbconvert_exporter": "python",
   "pygments_lexer": "ipython3",
   "version": "3.5.5"
  }
 },
 "nbformat": 4,
 "nbformat_minor": 1
}
